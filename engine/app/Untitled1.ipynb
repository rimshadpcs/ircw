{
 "cells": [
  {
   "cell_type": "code",
   "execution_count": 12,
   "metadata": {},
   "outputs": [],
   "source": [
    "#\n",
    "# Libraries\n",
    "#\n",
    "import pandas as pd\n",
    "from flask import Flask, request, flash, render_template\n",
    "from flask_paginate import Pagination, get_page_args\n",
    "\n",
    "#from Indexer import indexer\n",
    "\n",
    "app = Flask(__name__)"
   ]
  },
  {
   "cell_type": "code",
   "execution_count": 13,
   "metadata": {},
   "outputs": [],
   "source": [
    "#pip install -U flask-paginate"
   ]
  },
  {
   "cell_type": "code",
   "execution_count": 14,
   "metadata": {},
   "outputs": [],
   "source": [
    "#pip install pyspellchecker"
   ]
  },
  {
   "cell_type": "code",
   "execution_count": 16,
   "metadata": {},
   "outputs": [
    {
     "ename": "NameError",
     "evalue": "name 'index_docs' is not defined",
     "output_type": "error",
     "traceback": [
      "\u001b[0;31m---------------------------------------------------------------------------\u001b[0m",
      "\u001b[0;31mNameError\u001b[0m                                 Traceback (most recent call last)",
      "\u001b[0;32m<ipython-input-16-528a68d57ca5>\u001b[0m in \u001b[0;36m<module>\u001b[0;34m\u001b[0m\n\u001b[1;32m      7\u001b[0m \u001b[0mDATA\u001b[0m \u001b[0;34m=\u001b[0m \u001b[0mdataframe\u001b[0m\u001b[0;34m.\u001b[0m\u001b[0mto_dict\u001b[0m\u001b[0;34m(\u001b[0m\u001b[0;34m'records'\u001b[0m\u001b[0;34m)\u001b[0m\u001b[0;34m\u001b[0m\u001b[0;34m\u001b[0m\u001b[0m\n\u001b[1;32m      8\u001b[0m \u001b[0mDATA\u001b[0m \u001b[0;34m=\u001b[0m \u001b[0;34m[\u001b[0m\u001b[0mrow\u001b[0m \u001b[0;32mfor\u001b[0m \u001b[0mrow\u001b[0m \u001b[0;32min\u001b[0m \u001b[0mDATA\u001b[0m \u001b[0;32mif\u001b[0m \u001b[0;32mnot\u001b[0m \u001b[0;34m(\u001b[0m\u001b[0mrow\u001b[0m\u001b[0;34m[\u001b[0m\u001b[0;34m'title'\u001b[0m\u001b[0;34m]\u001b[0m \u001b[0;32mis\u001b[0m \u001b[0;32mNone\u001b[0m\u001b[0;34m)\u001b[0m\u001b[0;34m]\u001b[0m\u001b[0;34m\u001b[0m\u001b[0;34m\u001b[0m\u001b[0m\n\u001b[0;32m----> 9\u001b[0;31m \u001b[0mindex\u001b[0m \u001b[0;34m=\u001b[0m \u001b[0mindex_docs\u001b[0m\u001b[0;34m(\u001b[0m\u001b[0mDATA\u001b[0m\u001b[0;34m,\u001b[0m \u001b[0;34m'title'\u001b[0m\u001b[0;34m)\u001b[0m\u001b[0;34m\u001b[0m\u001b[0;34m\u001b[0m\u001b[0m\n\u001b[0m\u001b[1;32m     10\u001b[0m \u001b[0;34m\u001b[0m\u001b[0m\n\u001b[1;32m     11\u001b[0m \u001b[0;34m@\u001b[0m\u001b[0mapp\u001b[0m\u001b[0;34m.\u001b[0m\u001b[0mroute\u001b[0m\u001b[0;34m(\u001b[0m\u001b[0;34m'/'\u001b[0m\u001b[0;34m)\u001b[0m\u001b[0;34m\u001b[0m\u001b[0;34m\u001b[0m\u001b[0m\n",
      "\u001b[0;31mNameError\u001b[0m: name 'index_docs' is not defined"
     ]
    }
   ],
   "source": [
    "#\n",
    "# Routes\n",
    "#\n",
    "#getting the data from  and passing\n",
    "dataframe = pd.read_json('/Users/rimshad/Downloads/scholar-vertical-search-engine-rimshad/scholar-vertical-search-engine-rimshad/crawler/coventryScholarFinal.json',orient=str)\n",
    "dataframe = dataframe.drop_duplicates(subset=['title', 'Authors'])\n",
    "DATA = dataframe.to_dict('records')\n",
    "DATA = [row for row in DATA if not (row['title'] is None)]\n",
    "index = index_docs(DATA, 'title')\n",
    "\n",
    "@app.route('/')\n",
    "def home():\n",
    "    if 'search' in request.args:\n",
    "        searchword = request.args.get('search')\n",
    "        search_results = indexer.query(index, DATA, searchword)\n",
    "\n",
    "        for entry in search_results:\n",
    "            flash(entry, 'success')\n",
    "    return render_template('search.html')\n",
    "\n",
    "\n",
    "@app.route('/search_results')\n",
    "def search_results():\n",
    "    if 'search' in request.args:\n",
    "        searchword = request.args.get('search')\n",
    "        search_results = indexer.query(index, DATA, searchword)\n",
    "        for entry in search_results:\n",
    "            flash(entry, 'success')\n",
    "\n",
    "        # automatic pagination handling\n",
    "        total = len(search_results)\n",
    "        page, per_page, offset = get_page_args(page_parameter='page', per_page_parameter='per_page')\n",
    "        pagination = Pagination(page=page, per_page=per_page, total=total, css_framework='bootstrap4')\n",
    "\n",
    "        return render_template('search_results.html',\n",
    "                               search_results=search_results[offset: offset + per_page],\n",
    "                               search_item=searchword,\n",
    "                               page=page,\n",
    "                               per_page=per_page,\n",
    "                               pagination=pagination,\n",
    "                               len=len)\n",
    "\n",
    "\n",
    "if __name__ == '__main__':\n",
    "    app.secret_key = 'secret123'\n",
    "    app.run(debug=True, threaded=True)\n"
   ]
  },
  {
   "cell_type": "code",
   "execution_count": null,
   "metadata": {},
   "outputs": [],
   "source": []
  },
  {
   "cell_type": "code",
   "execution_count": null,
   "metadata": {},
   "outputs": [],
   "source": []
  },
  {
   "cell_type": "code",
   "execution_count": null,
   "metadata": {},
   "outputs": [],
   "source": []
  },
  {
   "cell_type": "code",
   "execution_count": null,
   "metadata": {},
   "outputs": [],
   "source": []
  },
  {
   "cell_type": "code",
   "execution_count": null,
   "metadata": {},
   "outputs": [],
   "source": []
  },
  {
   "cell_type": "code",
   "execution_count": null,
   "metadata": {},
   "outputs": [],
   "source": []
  }
 ],
 "metadata": {
  "kernelspec": {
   "display_name": "Python 3",
   "language": "python",
   "name": "python3"
  },
  "language_info": {
   "codemirror_mode": {
    "name": "ipython",
    "version": 3
   },
   "file_extension": ".py",
   "mimetype": "text/x-python",
   "name": "python",
   "nbconvert_exporter": "python",
   "pygments_lexer": "ipython3",
   "version": "3.7.6"
  }
 },
 "nbformat": 4,
 "nbformat_minor": 4
}
